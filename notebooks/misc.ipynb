{
 "cells": [
  {
   "cell_type": "code",
   "execution_count": 11,
   "metadata": {},
   "outputs": [],
   "source": [
    "\n",
    "import sys\n",
    "sys.path.append('../src/')\n",
    "\n",
    "import os\n",
    "import numpy as np\n",
    "import pandas as pd\n",
    "import torch\n",
    "import torch.nn as nn\n",
    "import config\n",
    "import itertools\n",
    "import pickle\n",
    "\n",
    "from tqdm import tqdm\n",
    "from pathlib import Path\n",
    "from sklearn.model_selection import train_test_split\n",
    "from torch.nn import CrossEntropyLoss\n",
    "from torch.optim import Adam\n",
    "from utils import brier_score_tensor, make_ndarray_from_csv, impf_make_ndarray_from_csv\n",
    "from sklearn.metrics import precision_score, recall_score, f1_score, roc_auc_score \n",
    "from torch.nn.functional import softmax, one_hot\n",
    "from Dataset import CNS\n",
    "from torch.utils.data import DataLoader\n",
    "from utils import get_int_label"
   ]
  },
  {
   "cell_type": "code",
   "execution_count": 12,
   "metadata": {},
   "outputs": [],
   "source": [
    "dat_cfg = config.data_config\n",
    "clf_cfg = config.classifier_config\n",
    "impf_cfg = config.impf_config"
   ]
  },
  {
   "cell_type": "code",
   "execution_count": 13,
   "metadata": {},
   "outputs": [],
   "source": [
    "group = 'Embryonal'\n",
    "fold = '1.1'\n",
    "outer_fold = '1.0'\n",
    "impf_alg = 'MLP'\n",
    "with open(os.path.join(impf_cfg['IMPORTANT_FEATURES_DIR'], impf_alg, group, f'{outer_fold}_combined.pkl'), 'rb') as file:\n",
    "    impf = pickle.load(file)    "
   ]
  },
  {
   "cell_type": "code",
   "execution_count": 14,
   "metadata": {},
   "outputs": [
    {
     "name": "stdout",
     "output_type": "stream",
     "text": [
      "29\n"
     ]
    }
   ],
   "source": [
    "print(len(impf))"
   ]
  },
  {
   "cell_type": "code",
   "execution_count": 15,
   "metadata": {},
   "outputs": [
    {
     "name": "stderr",
     "output_type": "stream",
     "text": [
      "C:\\Users\\OA\\AppData\\Local\\Temp/ipykernel_6008/2710884814.py:3: FutureWarning: Passing a set as an indexer is deprecated and will raise in a future version. Use a list instead.\n",
      "  df_fold_train = df_fold_train.loc[:, impf]\n",
      "C:\\Users\\OA\\AppData\\Local\\Temp/ipykernel_6008/2710884814.py:4: FutureWarning: Passing a set as an indexer is deprecated and will raise in a future version. Use a list instead.\n",
      "  df_outer_fold_train = df_outer_fold_train.loc[:, impf]\n"
     ]
    }
   ],
   "source": [
    "df_fold_train = pd.read_csv(os.path.join(dat_cfg['TRAIN_CSV_DIR'], group, f'{fold}_train.csv'))\n",
    "df_outer_fold_train = pd.read_csv(os.path.join(dat_cfg['TRAIN_CSV_DIR'], group, f'{outer_fold}_train.csv'))\n",
    "df_fold_train = df_fold_train.loc[:, impf]\n",
    "df_outer_fold_train = df_outer_fold_train.loc[:, impf]"
   ]
  },
  {
   "cell_type": "code",
   "execution_count": 16,
   "metadata": {},
   "outputs": [
    {
     "data": {
      "text/plain": [
       "(29, 29, 29)"
      ]
     },
     "execution_count": 16,
     "metadata": {},
     "output_type": "execute_result"
    }
   ],
   "source": [
    "len(impf), len(df_fold_train.columns), len(df_outer_fold_train.columns)"
   ]
  },
  {
   "cell_type": "code",
   "execution_count": 17,
   "metadata": {},
   "outputs": [
    {
     "name": "stderr",
     "output_type": "stream",
     "text": [
      "../src\\utils.py:206: FutureWarning: Passing a set as an indexer is deprecated and will raise in a future version. Use a list instead.\n",
      "  train_features = np.array(df_train.loc[:,impf])\n",
      "../src\\utils.py:209: FutureWarning: Passing a set as an indexer is deprecated and will raise in a future version. Use a list instead.\n",
      "  test_features = np.array(df_test.loc[:,impf])\n"
     ]
    }
   ],
   "source": [
    "train_features, train_labels, val_features, val_labels = impf_make_ndarray_from_csv(group, fold, impf)\n",
    "train_labels_int = np.array([get_int_label(label, group) for label in train_labels])\n",
    "val_labels_int = np.array([get_int_label(label, group) for label in val_labels])\n",
    "train_dataset = CNS(train_features, train_labels_int, mode = 'train')\n",
    "val_dataset = CNS(val_features, val_labels_int, mode = 'val')\n",
    "train_loader = DataLoader(train_dataset, batch_size = impf_cfg['mlp_train_batch_size'], shuffle = True)\n",
    "val_loader = DataLoader(val_dataset, batch_size = impf_cfg['mlp_val_batch_size'], shuffle = False)"
   ]
  },
  {
   "cell_type": "code",
   "execution_count": 19,
   "metadata": {},
   "outputs": [
    {
     "data": {
      "text/plain": [
       "(449, 124)"
      ]
     },
     "execution_count": 19,
     "metadata": {},
     "output_type": "execute_result"
    }
   ],
   "source": [
    "len(train_labels_int), len(val_labels_int)"
   ]
  },
  {
   "cell_type": "code",
   "execution_count": 20,
   "metadata": {},
   "outputs": [
    {
     "name": "stderr",
     "output_type": "stream",
     "text": [
      "../src\\utils.py:178: FutureWarning: Passing a set as an indexer is deprecated and will raise in a future version. Use a list instead.\n",
      "  test_features = np.array(df_test.loc[:,impf])\n"
     ]
    }
   ],
   "source": [
    "test_features, test_labels = impf_make_ndarray_from_csv(group, outer_fold, impf, mode = 'test')\n",
    "test_labels_int = np.array([get_int_label(label, group) for label in test_labels])\n",
    "test_dataset = CNS(test_features, test_labels_int, mode = 'val')\n",
    "test_loader = DataLoader(test_dataset, batch_size = impf_cfg['mlp_val_batch_size'], shuffle = False)"
   ]
  },
  {
   "cell_type": "code",
   "execution_count": 21,
   "metadata": {},
   "outputs": [
    {
     "data": {
      "text/plain": [
       "8"
      ]
     },
     "execution_count": 21,
     "metadata": {},
     "output_type": "execute_result"
    }
   ],
   "source": [
    "len(val_loader)"
   ]
  }
 ],
 "metadata": {
  "kernelspec": {
   "display_name": "Python 3.8.5 ('base')",
   "language": "python",
   "name": "python3"
  },
  "language_info": {
   "codemirror_mode": {
    "name": "ipython",
    "version": 3
   },
   "file_extension": ".py",
   "mimetype": "text/x-python",
   "name": "python",
   "nbconvert_exporter": "python",
   "pygments_lexer": "ipython3",
   "version": "3.8.5"
  },
  "orig_nbformat": 4,
  "vscode": {
   "interpreter": {
    "hash": "19d1d53a962d236aa061289c2ac16dc8e6d9648c89fe79f459ae9a3493bc67b4"
   }
  }
 },
 "nbformat": 4,
 "nbformat_minor": 2
}
