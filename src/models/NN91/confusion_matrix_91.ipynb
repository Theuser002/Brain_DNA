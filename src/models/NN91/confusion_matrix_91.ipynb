{
 "cells": [
  {
   "cell_type": "code",
   "execution_count": 72,
   "metadata": {},
   "outputs": [
    {
     "name": "stdout",
     "output_type": "stream",
     "text": [
      "The autoreload extension is already loaded. To reload it, use:\n",
      "  %reload_ext autoreload\n"
     ]
    }
   ],
   "source": [
    "%load_ext autoreload\n",
    "%autoreload 2\n",
    "%reload_ext autoreload"
   ]
  },
  {
   "cell_type": "code",
   "execution_count": 73,
   "metadata": {},
   "outputs": [],
   "source": [
    "import os\n",
    "import pandas as pd\n",
    "import numpy as np\n",
    "import torch\n",
    "import pyreadr\n",
    "import config_91\n",
    "import argparse\n",
    "import utils_91\n",
    "import pickle\n",
    "import matplotlib.pyplot as plt\n",
    "import seaborn as sns\n",
    "\n",
    "from Dataset import CNS\n",
    "from torch.utils.data import DataLoader\n",
    "from Model import NN91\n",
    "from torch.nn import CrossEntropyLoss\n",
    "from torch.optim import Adam\n",
    "from utils_91 import make_ndarray_from_csv, get_int_label\n",
    "from imblearn.over_sampling import SMOTE\n",
    "from sklearn.utils.class_weight import compute_class_weight\n",
    "from sklearn import preprocessing\n",
    "from tqdm import tqdm\n",
    "from sklearn.metrics import confusion_matrix\n",
    "\n",
    "clf_cfg = config_91.classifier_config"
   ]
  },
  {
   "cell_type": "code",
   "execution_count": 74,
   "metadata": {},
   "outputs": [],
   "source": [
    "VAL_PROBS_DIR = clf_cfg['VAL_PROBS_DIR']\n",
    "VAL_LABELS_DIR = clf_cfg['VAL_LABELS_DIR']\n",
    "fold = '1.0'\n",
    "with open(os.path.join(VAL_PROBS_DIR, f'{fold}.pkl'), 'rb') as handle:\n",
    "    val_probs = pickle.load(handle)\n",
    "\n",
    "with open(os.path.join(VAL_LABELS_DIR, f'{fold}.pkl'), 'rb') as handle:\n",
    "    val_labels = pickle.load(handle)"
   ]
  },
  {
   "cell_type": "code",
   "execution_count": 75,
   "metadata": {},
   "outputs": [
    {
     "data": {
      "text/plain": [
       "array([57, 50, 24, 85, 50, 47, 88, 26, 82, 28, 50, 57, 40,  6, 63, 39,  0,\n",
       "       63, 88, 58, 27,  3, 84,  9, 63, 56, 64, 50, 22, 61, 64, 43,  4, 67,\n",
       "       27,  4, 39, 90, 64, 35, 42, 87,  4, 80, 48, 57, 19, 76, 28, 18, 57,\n",
       "        8, 37,  9,  2, 67, 15, 27,  5, 17, 30, 90, 24, 80, 22, 70, 50, 20,\n",
       "       35,  9,  1, 30, 82, 50, 22, 47, 64, 35, 80, 27, 22, 60,  1, 78, 56,\n",
       "        5, 22, 38, 68, 39, 39, 80, 32, 50, 39, 63, 34, 41, 38, 16, 84, 28,\n",
       "       31, 90, 58, 43, 80, 63, 46, 15, 50, 29, 57,  1, 41, 69,  9,  9, 57,\n",
       "       38, 38, 22, 56, 50, 23, 32,  5, 57, 39, 46, 68, 80, 38, 76, 84, 35,\n",
       "       55, 22,  3, 29, 39, 79, 20,  0, 29, 10, 83, 58,  9, 57, 46, 73, 44,\n",
       "       58, 59, 58, 20, 63, 56, 27, 39, 34, 57, 57, 88, 18, 50, 17, 34, 60,\n",
       "        0, 29, 39, 85, 29, 38, 28, 40, 59, 33, 75, 89, 49, 46, 65, 64, 69,\n",
       "       63,  0, 27, 41, 58, 64, 78, 17, 88, 28, 14,  3, 83,  0, 51, 86, 27,\n",
       "       52, 35, 22, 85,  0, 64, 29, 64, 88, 29, 34, 39, 27, 56, 11, 29,  3,\n",
       "        8,  0, 50,  4, 15, 22, 64,  0, 27, 60, 56, 24, 71, 37, 62, 58, 64,\n",
       "       39, 59, 27, 39, 56, 50, 47, 30, 60, 32, 83, 48, 57, 53, 27, 21,  4,\n",
       "       22, 57, 87, 39, 58, 78, 33, 82, 63, 63, 88, 59, 88, 39,  5, 57, 27,\n",
       "       64, 88, 39,  7, 42, 64, 56,  4, 68, 61, 29, 74, 63,  2, 80, 46, 35,\n",
       "       74, 27, 76, 39, 58, 23, 50, 76, 37, 80, 67, 49, 79, 49, 82, 84, 85,\n",
       "        9, 32, 27, 50, 50, 49, 58, 26, 87,  7, 28, 39, 12, 56, 57, 39, 60,\n",
       "       39, 20, 29, 57, 38, 57, 39,  5, 54, 77, 47, 38, 51, 46, 39, 46, 38,\n",
       "       28, 59, 56, 59, 81,  1, 60, 24, 41, 25, 30,  0, 63, 70, 64,  1, 46,\n",
       "       76, 25,  1, 11, 56, 19, 38, 23, 57, 40, 24, 27, 80, 83,  9, 53, 72,\n",
       "       19, 78, 70, 42, 56, 57, 74, 22, 82, 26, 80, 59,  5, 17, 83, 85, 35,\n",
       "       83, 31,  2, 75, 56, 45, 65, 57, 50, 10, 51, 64, 39, 35, 66, 22, 26,\n",
       "        8, 63, 13,  2, 39, 56, 54, 29, 43, 89, 74,  8, 70, 59, 59, 14, 34,\n",
       "       49, 65,  6, 64, 53, 30, 28, 49, 57, 48, 16, 56, 69, 87, 63, 90,  3,\n",
       "       60, 39, 50, 42, 14, 34, 27,  4, 22, 48, 27, 37, 21, 30, 58, 46,  0,\n",
       "       58, 58, 66, 57, 16, 47, 38, 70, 58,  5, 73, 50, 22, 14, 43,  4,  1,\n",
       "       39, 39, 32, 28, 62, 39, 72,  0, 32, 65, 38, 62, 49, 57, 29, 35, 19,\n",
       "       31, 86, 63, 76, 57, 36, 67, 64, 27, 59, 12, 28, 68,  0, 27,  0, 63,\n",
       "       25, 50, 55, 71, 57, 34, 33, 63, 50, 26, 35, 32,  2, 34, 50, 58, 13,\n",
       "       55, 52, 25, 56, 83, 45, 57, 73, 63, 83, 19, 57, 59,  6, 35,  3, 67,\n",
       "       60, 22, 50, 38, 63, 22,  8, 12, 26,  0, 34, 32, 41, 17,  1, 35, 53,\n",
       "       79, 29, 39, 51, 53, 57, 57, 51,  5, 69, 44, 28,  1,  1, 58, 32,  4,\n",
       "       36, 39, 78, 49, 61,  4, 29, 42, 14, 58, 83, 81, 50, 43,  0, 36, 77,\n",
       "       48,  0], dtype=int64)"
      ]
     },
     "execution_count": 75,
     "metadata": {},
     "output_type": "execute_result"
    }
   ],
   "source": [
    "val_labels"
   ]
  },
  {
   "cell_type": "code",
   "execution_count": 76,
   "metadata": {},
   "outputs": [
    {
     "name": "stdout",
     "output_type": "stream",
     "text": [
      "0.963183717811527\n"
     ]
    }
   ],
   "source": [
    "positions = np.argmax(val_probs, axis=1)\n",
    "\n",
    "avg_confidence = 0\n",
    "\n",
    "for i in range(len(positions)):\n",
    "    confidence = val_probs[i][positions[i]]\n",
    "    avg_confidence += confidence\n",
    "avg_confidence = avg_confidence/len(positions)\n",
    "print(avg_confidence)"
   ]
  },
  {
   "cell_type": "code",
   "execution_count": 77,
   "metadata": {},
   "outputs": [],
   "source": [
    "sns.color_palette = 'viridis'\n",
    "def plot_confusion_matrix(confusion_matrix, class_names, title = '', figsize = (15,10), fontsize=12):\n",
    "    \"\"\"Prints a confusion matrix, as returned by sklearn.metrics.confusion_matrix, as a heatmap.\n",
    "\n",
    "    Arguments\n",
    "    ---------\n",
    "    confusion_matrix: numpy.ndarray\n",
    "        The numpy.ndarray object returned from a call to sklearn.metrics.confusion_matrix.\n",
    "        Similarly constructed ndarrays can also be used.\n",
    "    class_names: list\n",
    "        An ordered list of class names, in the order they index the given confusion matrix.\n",
    "    figsize: tuple\n",
    "        A 2-long tuple, the first value determining the horizontal size of the ouputted figure,\n",
    "        the second determining the vertical size. Defaults to (100,70).\n",
    "    fontsize: int\n",
    "        Font size for axes labels. Defaults to 14.\n",
    "    \"\"\"\n",
    "    df_cm = pd.DataFrame(\n",
    "        confusion_matrix.astype('float')/confusion_matrix.sum(axis = 1)*100, index=class_names, columns=class_names,\n",
    "    )\n",
    "    # df_cm = pd.DataFrame(\n",
    "    #     confusion_matrix, index=class_names, columns=class_names,\n",
    "    # )\n",
    "    fig = plt.figure(figsize=figsize)\n",
    "    plt.title = title\n",
    "    # df_cm = df_cm.loc[['GBM, MES', 'GBM, MID', 'GBM, MYCN', 'GBM, RTK I', 'GBM, RTK II', 'GBM, RTK III'], ['GBM, MES', 'GBM, MID', 'GBM, MYCN', 'GBM, RTK I', 'GBM, RTK II', 'GBM, RTK III']]\n",
    "    # df_cm = df_cm.loc[['SCHW', 'SCHW, MEL'], ['SCHW', 'SCHW, MEL']]\n",
    "    # df_cm = df_cm.loc[['PITAD, STH DNS A'], ['PITAD, STH DNS A', 'CONTR, ADENOPIT', 'PITAD, STH DNS B']]\n",
    "    try:\n",
    "        heatmap = sns.heatmap(df_cm, annot=True, fmt = \".2f\", cmap='Reds')\n",
    "    except ValueError:\n",
    "        raise ValueError(\"Confusion matrix values must be integers.\")\n",
    "    heatmap.yaxis.set_ticklabels(heatmap.yaxis.get_ticklabels(), rotation=0, ha='right', fontsize=fontsize)\n",
    "    heatmap.xaxis.set_ticklabels(heatmap.xaxis.get_ticklabels(), rotation=45, ha='right', fontsize=fontsize)\n",
    "    plt.ylabel('True label')\n",
    "    plt.xlabel('Predicted label')"
   ]
  },
  {
   "cell_type": "code",
   "execution_count": 78,
   "metadata": {},
   "outputs": [],
   "source": [
    "# _, idx = np.unique(val_labels, return_index=True)\n",
    "# unique_labels = val_labels[sorted(idx)]\n",
    "# unique_labels\n"
   ]
  },
  {
   "cell_type": "code",
   "execution_count": 79,
   "metadata": {},
   "outputs": [
    {
     "data": {
      "text/plain": [
       "(array([[15,  1,  0, ...,  0,  0,  0],\n",
       "        [ 0, 10,  0, ...,  0,  0,  0],\n",
       "        [ 0,  0,  5, ...,  0,  0,  0],\n",
       "        ...,\n",
       "        [ 0,  0,  0, ...,  8,  0,  0],\n",
       "        [ 0,  0,  0, ...,  0,  2,  0],\n",
       "        [ 0,  0,  0, ...,  0,  0,  4]], dtype=int64),\n",
       " (91, 91))"
      ]
     },
     "execution_count": 79,
     "metadata": {},
     "output_type": "execute_result"
    }
   ],
   "source": [
    "# Index the matrix in the order appeared in the labe_dict\n",
    "cfs_matrix = confusion_matrix(val_labels, np.argmax(val_probs, axis=1), labels=list(utils_91.label_dict.values()))\n",
    "cfs_matrix, cfs_matrix.shape"
   ]
  },
  {
   "cell_type": "code",
   "execution_count": 80,
   "metadata": {},
   "outputs": [],
   "source": [
    "# plot_confusion_matrix(cfs_matrix, list(utils_91.label_dict.keys()), title = 'Confusion matrix fold 1.0', figsize=(70, 50))"
   ]
  },
  {
   "cell_type": "code",
   "execution_count": 84,
   "metadata": {},
   "outputs": [
    {
     "data": {
      "image/png": "[encoded data removed]",
      "text/plain": [
       "<Figure size 1080x216 with 2 Axes>"
      ]
     },
     "metadata": {
      "needs_background": "light"
     },
     "output_type": "display_data"
    }
   ],
   "source": [
    "folds = utils_91.outer_folds\n",
    "sum_cfs_matrix = np.zeros((91, 91), dtype=int)\n",
    "for fold in folds:\n",
    "    with open(os.path.join(VAL_PROBS_DIR, f'{fold}.pkl'), 'rb') as handle:\n",
    "        val_probs = pickle.load(handle)\n",
    "\n",
    "    with open(os.path.join(VAL_LABELS_DIR, f'{fold}.pkl'), 'rb') as handle:\n",
    "        val_labels = pickle.load(handle)\n",
    "    cfs_matrix = confusion_matrix(val_labels, np.argmax(val_probs, axis=1), labels=list(utils_91.label_dict.values()))\n",
    "    sum_cfs_matrix += cfs_matrix\n",
    "plot_confusion_matrix(sum_cfs_matrix, list(utils_91.label_dict.keys()), title = 'Sum of confusion matrix fold 1.0 - 5.0', figsize=(15, 3), fontsize = 20)"
   ]
  },
  {
   "cell_type": "code",
   "execution_count": 82,
   "metadata": {},
   "outputs": [
    {
     "data": {
      "text/plain": [
       "array([[76,  2,  0, ...,  0,  0,  0],\n",
       "       [ 3, 42,  0, ...,  0,  0,  0],\n",
       "       [ 0,  0, 21, ...,  0,  0,  0],\n",
       "       ...,\n",
       "       [ 0,  0,  0, ..., 37,  0,  0],\n",
       "       [ 0,  0,  0, ...,  0,  9,  0],\n",
       "       [ 0,  0,  0, ...,  0,  0, 19]])"
      ]
     },
     "execution_count": 82,
     "metadata": {},
     "output_type": "execute_result"
    }
   ],
   "source": [
    "sum_cfs_matrix"
   ]
  }
 ],
 "metadata": {
  "kernelspec": {
   "display_name": "Python 3.8.5 ('base')",
   "language": "python",
   "name": "python3"
  },
  "language_info": {
   "codemirror_mode": {
    "name": "ipython",
    "version": 3
   },
   "file_extension": ".py",
   "mimetype": "text/x-python",
   "name": "python",
   "nbconvert_exporter": "python",
   "pygments_lexer": "ipython3",
   "version": "3.8.5"
  },
  "orig_nbformat": 4,
  "vscode": {
   "interpreter": {
    "hash": "19d1d53a962d236aa061289c2ac16dc8e6d9648c89fe79f459ae9a3493bc67b4"
   }
  }
 },
 "nbformat": 4,
 "nbformat_minor": 2
}
