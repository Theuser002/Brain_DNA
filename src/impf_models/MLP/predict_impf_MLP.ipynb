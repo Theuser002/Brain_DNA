{
 "cells": [
  {
   "cell_type": "code",
   "execution_count": 1,
   "metadata": {},
   "outputs": [],
   "source": [
    "%load_ext autoreload\n",
    "%autoreload 2\n",
    "%reload_ext autoreload"
   ]
  },
  {
   "cell_type": "code",
   "execution_count": 2,
   "metadata": {},
   "outputs": [],
   "source": [
    "import sys\n",
    "sys.path.append('../../')\n",
    "\n",
    "import os\n",
    "import pandas as pd\n",
    "import numpy as np\n",
    "import config\n",
    "import utils\n",
    "import torch\n",
    "import pickle\n",
    "import train_impf_MLP\n",
    "\n",
    "from Model import Impf_DNAMLP\n",
    "from torch.nn.functional import softmax\n",
    "from utils import impf_make_ndarray_from_csv, get_int_label\n",
    "from torch.utils.data import DataLoader\n",
    "from torch.nn import CrossEntropyLoss\n",
    "from torch.optim import Adam\n",
    "from Dataset import CNS"
   ]
  },
  {
   "cell_type": "code",
   "execution_count": 3,
   "metadata": {},
   "outputs": [
    {
     "name": "stdout",
     "output_type": "stream",
     "text": [
      "['Glio-neuronal', 'Other glioma']\n"
     ]
    }
   ],
   "source": [
    "print(utils.low_perf_groups)"
   ]
  },
  {
   "cell_type": "code",
   "execution_count": 4,
   "metadata": {},
   "outputs": [
    {
     "name": "stdout",
     "output_type": "stream",
     "text": [
      "3.0\n"
     ]
    }
   ],
   "source": [
    "inner_fold = '3.4'\n",
    "outer_fold = f\"{inner_fold.split('.')[0]}.0\"\n",
    "group = 'Sella'\n",
    "alg = 'MLP'\n",
    "print(outer_fold)"
   ]
  },
  {
   "cell_type": "code",
   "execution_count": 5,
   "metadata": {},
   "outputs": [
    {
     "data": {
      "text/plain": [
       "'cpu'"
      ]
     },
     "execution_count": 5,
     "metadata": {},
     "output_type": "execute_result"
    }
   ],
   "source": [
    "dat_cfg = config.data_config\n",
    "clf_cfg = config.classifier_config\n",
    "impf_cfg = config.impf_config\n",
    "TRAIN_CSV_DIR = dat_cfg['TRAIN_CSV_DIR']\n",
    "TEST_CSV_DIR = dat_cfg['TEST_CSV_DIR']\n",
    "\n",
    "INNER_FOLD_CSV = os.path.join(TEST_CSV_DIR, group, f'{inner_fold}_test.csv')\n",
    "OUTER_FOLD_CSV = os.path.join(TEST_CSV_DIR, group, f'{outer_fold}_test.csv')\n",
    "device = impf_cfg['device']\n",
    "device"
   ]
  },
  {
   "cell_type": "code",
   "execution_count": 6,
   "metadata": {},
   "outputs": [
    {
     "name": "stdout",
     "output_type": "stream",
     "text": [
      "95\n"
     ]
    }
   ],
   "source": [
    "with open(os.path.join(impf_cfg['IMPORTANT_FEATURES_DIR'], alg, group, f'{outer_fold}_combined.pkl'), 'rb') as handle:\n",
    "    impf = pickle.load(handle)\n",
    "print(len(impf))"
   ]
  },
  {
   "cell_type": "code",
   "execution_count": 7,
   "metadata": {},
   "outputs": [
    {
     "data": {
      "text/plain": [
       "{'cg00074145',\n",
       " 'cg00110654',\n",
       " 'cg00257271',\n",
       " 'cg00875805',\n",
       " 'cg01663018',\n",
       " 'cg01730970',\n",
       " 'cg01990910',\n",
       " 'cg02046552',\n",
       " 'cg02053678',\n",
       " 'cg02380531',\n",
       " 'cg02846841',\n",
       " 'cg03035213',\n",
       " 'cg03126579',\n",
       " 'cg03184290',\n",
       " 'cg03287940',\n",
       " 'cg03531247',\n",
       " 'cg03673965',\n",
       " 'cg04046669',\n",
       " 'cg04138112',\n",
       " 'cg04193970',\n",
       " 'cg04224064',\n",
       " 'cg04883026',\n",
       " 'cg05021743',\n",
       " 'cg05634637',\n",
       " 'cg06952416',\n",
       " 'cg07197230',\n",
       " 'cg07377422',\n",
       " 'cg07921371',\n",
       " 'cg07924363',\n",
       " 'cg07961887',\n",
       " 'cg08409113',\n",
       " 'cg08465307',\n",
       " 'cg08490663',\n",
       " 'cg09059945',\n",
       " 'cg09140778',\n",
       " 'cg09235583',\n",
       " 'cg09599130',\n",
       " 'cg09671951',\n",
       " 'cg09803262',\n",
       " 'cg09851951',\n",
       " 'cg09954385',\n",
       " 'cg10200388',\n",
       " 'cg10585371',\n",
       " 'cg11122009',\n",
       " 'cg11667086',\n",
       " 'cg11904906',\n",
       " 'cg12177743',\n",
       " 'cg12414557',\n",
       " 'cg12749132',\n",
       " 'cg13356117',\n",
       " 'cg13711457',\n",
       " 'cg14210607',\n",
       " 'cg14786652',\n",
       " 'cg14826683',\n",
       " 'cg14839134',\n",
       " 'cg14859874',\n",
       " 'cg14866595',\n",
       " 'cg15030449',\n",
       " 'cg15316843',\n",
       " 'cg16810605',\n",
       " 'cg17170948',\n",
       " 'cg17298239',\n",
       " 'cg17521583',\n",
       " 'cg17602481',\n",
       " 'cg17898329',\n",
       " 'cg18082337',\n",
       " 'cg18183163',\n",
       " 'cg18502142',\n",
       " 'cg18912855',\n",
       " 'cg19058865',\n",
       " 'cg20072171',\n",
       " 'cg20792376',\n",
       " 'cg21148362',\n",
       " 'cg21389753',\n",
       " 'cg21488538',\n",
       " 'cg21829923',\n",
       " 'cg21854924',\n",
       " 'cg22557662',\n",
       " 'cg22635676',\n",
       " 'cg23217622',\n",
       " 'cg23817096',\n",
       " 'cg23821359',\n",
       " 'cg24267283',\n",
       " 'cg24419324',\n",
       " 'cg24452128',\n",
       " 'cg24529280',\n",
       " 'cg24641302',\n",
       " 'cg24783211',\n",
       " 'cg25123102',\n",
       " 'cg25524962',\n",
       " 'cg26147845',\n",
       " 'cg26282566',\n",
       " 'cg26718878',\n",
       " 'cg26855801',\n",
       " 'cg27025079'}"
      ]
     },
     "execution_count": 7,
     "metadata": {},
     "output_type": "execute_result"
    }
   ],
   "source": [
    "impf"
   ]
  },
  {
   "cell_type": "code",
   "execution_count": 8,
   "metadata": {},
   "outputs": [
    {
     "data": {
      "text/plain": [
       "((42, 10002), (59, 10002))"
      ]
     },
     "execution_count": 8,
     "metadata": {},
     "output_type": "execute_result"
    }
   ],
   "source": [
    "df_inner = pd.read_csv(INNER_FOLD_CSV, index_col=0)\n",
    "df_outer = pd.read_csv(OUTER_FOLD_CSV, index_col=0)\n",
    "df_inner.shape, df_outer.shape"
   ]
  },
  {
   "cell_type": "code",
   "execution_count": 9,
   "metadata": {},
   "outputs": [
    {
     "data": {
      "text/plain": [
       "Sella      34\n",
       "Control    25\n",
       "Name: class_group, dtype: int64"
      ]
     },
     "execution_count": 9,
     "metadata": {},
     "output_type": "execute_result"
    }
   ],
   "source": [
    "pd.Series(pd.read_csv(OUTER_FOLD_CSV, index_col=0).iloc[:, -1]).value_counts()"
   ]
  },
  {
   "cell_type": "markdown",
   "metadata": {},
   "source": [
    "## Load random test sample and predict"
   ]
  },
  {
   "cell_type": "code",
   "execution_count": 10,
   "metadata": {},
   "outputs": [
    {
     "data": {
      "text/plain": [
       "(16,\n",
       " cg22054918     0.003023\n",
       " cg16476975     0.015417\n",
       " cg25570913     0.052471\n",
       " cg03940848     0.218212\n",
       " cg02809746     0.010131\n",
       "                  ...   \n",
       " cg22513691     0.885517\n",
       " cg00743629     0.887552\n",
       " cg13621317     0.571651\n",
       " label          CPH, ADM\n",
       " class_group       Sella\n",
       " Name: 9305651095_R06C02, Length: 10002, dtype: object)"
      ]
     },
     "execution_count": 10,
     "metadata": {},
     "output_type": "execute_result"
    }
   ],
   "source": [
    "rand = np.random.randint(df_outer.shape[0])\n",
    "sample = df_outer.iloc[rand, :]\n",
    "rand, sample"
   ]
  },
  {
   "cell_type": "code",
   "execution_count": 11,
   "metadata": {},
   "outputs": [
    {
     "data": {
      "text/plain": [
       "(cg00074145    0.073633\n",
       " cg00110654    0.832168\n",
       " cg00257271    0.143880\n",
       " cg00875805    0.630745\n",
       " cg01663018    0.017201\n",
       "                 ...   \n",
       " cg26147845    0.037444\n",
       " cg26282566    0.101960\n",
       " cg26718878    0.958998\n",
       " cg26855801    0.367435\n",
       " cg27025079    0.167244\n",
       " Name: 9305651095_R06C02, Length: 95, dtype: float64,\n",
       " (95,),\n",
       " 0)"
      ]
     },
     "execution_count": 11,
     "metadata": {},
     "output_type": "execute_result"
    }
   ],
   "source": [
    "sample = df_outer.loc[:, sorted(list(impf))].iloc[rand,:]\n",
    "label = get_int_label(df_outer.iloc[rand, -1], group)\n",
    "sample, sample.shape, label"
   ]
  },
  {
   "cell_type": "code",
   "execution_count": 12,
   "metadata": {},
   "outputs": [
    {
     "data": {
      "text/plain": [
       "array([[0.07363336, 0.83216783, 0.14387974, 0.63074546, 0.01720063,\n",
       "        0.87658444, 0.98564828, 0.93190735, 0.06974955, 0.01777707,\n",
       "        0.1530839 , 0.06359347, 0.55286491, 0.00652664, 0.51600815,\n",
       "        0.09093915, 0.13349749, 0.81183473, 0.02090292, 0.75543074,\n",
       "        0.06429633, 0.07984135, 0.89097782, 0.51151387, 0.31831456,\n",
       "        0.09743342, 0.93598179, 0.04297773, 0.58911355, 0.04677368,\n",
       "        0.92447153, 0.77980952, 0.02185792, 0.378664  , 0.0106032 ,\n",
       "        0.01094969, 0.13618722, 0.50108125, 0.84347241, 0.86602984,\n",
       "        0.03011065, 0.06064844, 0.64188756, 0.19855645, 0.03433018,\n",
       "        0.78489913, 0.01469992, 0.30805432, 0.98878085, 0.02231413,\n",
       "        0.0241389 , 0.12427287, 0.98016599, 0.39761088, 0.9345365 ,\n",
       "        0.45315586, 0.05690367, 0.39417832, 0.07335237, 0.04957181,\n",
       "        0.79270533, 0.05151639, 0.03044204, 0.84798813, 0.05680191,\n",
       "        0.05325011, 0.31372689, 0.98036865, 0.01680372, 0.96013527,\n",
       "        0.02844359, 0.06346109, 0.05894591, 0.0995671 , 0.16280467,\n",
       "        0.6065742 , 0.80662383, 0.02246689, 0.03431909, 0.05413543,\n",
       "        0.22584693, 0.95046537, 0.03076825, 0.05271585, 0.90694403,\n",
       "        0.00940113, 0.8815253 , 0.82928374, 0.67229327, 0.68537336,\n",
       "        0.03744428, 0.10196044, 0.95899755, 0.36743466, 0.16724359]])"
      ]
     },
     "execution_count": 12,
     "metadata": {},
     "output_type": "execute_result"
    }
   ],
   "source": [
    "sample_features = np.expand_dims(np.array(sample), axis = 0)\n",
    "sample_features\n",
    "# sample_features, type(sample_features), sample_features.shape, type(sample_features[0][0])"
   ]
  },
  {
   "cell_type": "code",
   "execution_count": 13,
   "metadata": {},
   "outputs": [
    {
     "data": {
      "text/plain": [
       "Impf_DNAMLP(\n",
       "  (densenet): Sequential(\n",
       "    (0): Linear(in_features=95, out_features=2, bias=True)\n",
       "  )\n",
       ")"
      ]
     },
     "execution_count": 13,
     "metadata": {},
     "output_type": "execute_result"
    }
   ],
   "source": [
    "IMPF_MLP_STATE_FILE = os.path.join(impf_cfg['MLP_BEST_STATES_DIR'], alg, group, f'{inner_fold}.pth')\n",
    "\n",
    "n_classes = impf_cfg['n_classes']\n",
    "in_features = len(impf)\n",
    "\n",
    "model = Impf_DNAMLP(in_features, n_classes)\n",
    "if torch.cuda.is_available():\n",
    "    model.load_state_dict(torch.load(IMPF_MLP_STATE_FILE))\n",
    "else:\n",
    "    model.load_state_dict(torch.load(IMPF_MLP_STATE_FILE, map_location='cpu'))\n",
    "model.to(device)"
   ]
  },
  {
   "cell_type": "code",
   "execution_count": 14,
   "metadata": {},
   "outputs": [
    {
     "data": {
      "text/plain": [
       "(1, 95)"
      ]
     },
     "execution_count": 14,
     "metadata": {},
     "output_type": "execute_result"
    }
   ],
   "source": [
    "sample_features.shape"
   ]
  },
  {
   "cell_type": "code",
   "execution_count": 15,
   "metadata": {},
   "outputs": [
    {
     "data": {
      "text/plain": [
       "tensor([[0.8321, 0.1679]], grad_fn=<SoftmaxBackward0>)"
      ]
     },
     "execution_count": 15,
     "metadata": {},
     "output_type": "execute_result"
    }
   ],
   "source": [
    "probs = softmax(model((torch.Tensor(sample_features).to(device))), dim = 1)\n",
    "probs"
   ]
  },
  {
   "cell_type": "code",
   "execution_count": 16,
   "metadata": {},
   "outputs": [],
   "source": [
    "# epoch = 1\n",
    "# test_features, test_labels = impf_make_ndarray_from_csv(group, outer_fold, impf, mode = 'test')\n",
    "# test_labels_int = np.array([get_int_label(label, group) for label in test_labels])\n",
    "# test_dataset = CNS(test_features, test_labels_int, mode = 'val')\n",
    "# test_loader = DataLoader(test_dataset, batch_size = impf_cfg['mlp_val_batch_size'], shuffle = False)\n",
    "# criterion = CrossEntropyLoss()\n",
    "# optimizer = Adam(model.parameters(), lr = impf_cfg['mlp_lr'], weight_decay = impf_cfg['mlp_weight_decay'])\n",
    "# res = train_impf_MLP.impf_val_epoch(epoch, model, test_loader, criterion, impf_cfg['device'])\n",
    "# test_loss, test_acc, test_me, test_bs, test_auc, test_f1, test_precision, test_recall, test_cfs = res"
   ]
  },
  {
   "cell_type": "code",
   "execution_count": 17,
   "metadata": {},
   "outputs": [],
   "source": [
    "# res"
   ]
  },
  {
   "cell_type": "code",
   "execution_count": 18,
   "metadata": {},
   "outputs": [],
   "source": [
    "# train_features, train_labels = impf_make_ndarray_from_csv(group, inner_fold, impf, mode = 'train')\n",
    "# val_features, val_labels = impf_make_ndarray_from_csv(group, inner_fold, impf, mode = 'test')\n",
    "# test_features, test_labels = impf_make_ndarray_from_csv(group, outer_fold, impf, mode = 'test')\n",
    "\n",
    "# train_labels_int = np.array([get_int_label(label, group) for label in train_labels])\n",
    "# val_labels_int = np.array([get_int_label(label, group) for label in val_labels])\n",
    "# test_labels_int = np.array([get_int_label(label, group) for label in test_labels])\n",
    "\n",
    "# train_dataset = CNS(train_features, train_labels_int, mode = 'train')\n",
    "# val_dataset = CNS(val_features, val_labels_int, mode = 'val')\n",
    "# test_dataset = CNS(test_features, test_labels_int, mode = 'val')\n",
    "# train_loader = DataLoader(train_dataset, batch_size = impf_cfg['mlp_train_batch_size'], shuffle = True)\n",
    "# val_loader = DataLoader(val_dataset, batch_size = impf_cfg['mlp_val_batch_size'], shuffle = False)\n",
    "# test_loader = DataLoader(test_dataset, batch_size = impf_cfg['mlp_val_batch_size'], shuffle = False)\n",
    "\n",
    "# # Init model object\n",
    "# in_features = len(impf)\n",
    "# if group in utils.low_perf_groups:\n",
    "#     model = Impf_GlioMLP(in_features, impf_cfg['n_classes'])\n",
    "# else:\n",
    "#     model = Impf_DNAMLP(in_features, impf_cfg['n_classes'])"
   ]
  },
  {
   "cell_type": "code",
   "execution_count": 19,
   "metadata": {},
   "outputs": [],
   "source": [
    "# %%capture\n",
    "# all_res = {}\n",
    "# for fold in utils.inner_folds:\n",
    "#     res = train_impf_MLP.impf_run(group, alg, fold, train_loader, val_loader, test_loader, model, criterion, optimizer, impf_cfg, 'no_save')\n",
    "#     all_res[f'{fold}'] = res"
   ]
  },
  {
   "cell_type": "code",
   "execution_count": 20,
   "metadata": {},
   "outputs": [],
   "source": [
    "# all_res"
   ]
  }
 ],
 "metadata": {
  "kernelspec": {
   "display_name": "Python 3.8.5 ('base')",
   "language": "python",
   "name": "python3"
  },
  "language_info": {
   "codemirror_mode": {
    "name": "ipython",
    "version": 3
   },
   "file_extension": ".py",
   "mimetype": "text/x-python",
   "name": "python",
   "nbconvert_exporter": "python",
   "pygments_lexer": "ipython3",
   "version": "3.8.5"
  },
  "orig_nbformat": 4,
  "vscode": {
   "interpreter": {
    "hash": "19d1d53a962d236aa061289c2ac16dc8e6d9648c89fe79f459ae9a3493bc67b4"
   }
  }
 },
 "nbformat": 4,
 "nbformat_minor": 2
}
