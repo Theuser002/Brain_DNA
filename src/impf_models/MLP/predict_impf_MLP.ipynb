{
 "cells": [
  {
   "cell_type": "code",
   "execution_count": 76,
   "metadata": {},
   "outputs": [],
   "source": [
    "import sys\n",
    "sys.path.append('../../../src/')\n",
    "\n",
    "import os\n",
    "import pandas as pd\n",
    "import numpy as np\n",
    "import config\n",
    "import utils\n",
    "import torch\n",
    "import pickle\n",
    "\n",
    "from Model import Impf_DNAMLP\n",
    "from torch.nn.functional import softmax"
   ]
  },
  {
   "cell_type": "code",
   "execution_count": 77,
   "metadata": {},
   "outputs": [],
   "source": [
    "fold = '3.4'\n",
    "outer_fold = f\"{fold.split('.')[0]}.0\"\n",
    "group = 'Sella'\n",
    "alg = 'RF'"
   ]
  },
  {
   "cell_type": "code",
   "execution_count": 78,
   "metadata": {},
   "outputs": [
    {
     "data": {
      "text/plain": [
       "'cpu'"
      ]
     },
     "execution_count": 78,
     "metadata": {},
     "output_type": "execute_result"
    }
   ],
   "source": [
    "dat_cfg = config.data_config\n",
    "clf_cfg = config.classifier_config\n",
    "impf_cfg = config.impf_config\n",
    "TRAIN_CSV_DIR = dat_cfg['TRAIN_CSV_DIR']\n",
    "TEST_CSV_DIR = dat_cfg['TEST_CSV_DIR']\n",
    "OUTER_FOLD_CSV_FILE = os.path.join(TEST_CSV_DIR, group, f'{outer_fold}_test.csv')\n",
    "FOLD_CSV_FILE = os.path.join(TEST_CSV_DIR, group, f'{fold}_test.csv')\n",
    "device = impf_cfg['device']\n",
    "device"
   ]
  },
  {
   "cell_type": "code",
   "execution_count": 79,
   "metadata": {},
   "outputs": [
    {
     "name": "stdout",
     "output_type": "stream",
     "text": [
      "2049\n"
     ]
    }
   ],
   "source": [
    "with open(os.path.join(impf_cfg['IMPORTANT_FEATURES_DIR'], alg, group, f'{outer_fold}_combined.pkl'), 'rb') as handle:\n",
    "    impf = pickle.load(handle)\n",
    "print(len(impf))"
   ]
  },
  {
   "cell_type": "code",
   "execution_count": 80,
   "metadata": {},
   "outputs": [
    {
     "data": {
      "text/plain": [
       "((42, 10002), (59, 10002))"
      ]
     },
     "execution_count": 80,
     "metadata": {},
     "output_type": "execute_result"
    }
   ],
   "source": [
    "df = pd.read_csv(FOLD_CSV_FILE, index_col=0)\n",
    "df_test = pd.read_csv(OUTER_FOLD_CSV_FILE, index_col=0)\n",
    "df.shape, df_test.shape"
   ]
  },
  {
   "cell_type": "code",
   "execution_count": 81,
   "metadata": {},
   "outputs": [
    {
     "data": {
      "text/plain": [
       "Sella      34\n",
       "Control    25\n",
       "Name: class_group, dtype: int64"
      ]
     },
     "execution_count": 81,
     "metadata": {},
     "output_type": "execute_result"
    }
   ],
   "source": [
    "pd.Series(pd.read_csv(OUTER_FOLD_CSV_FILE, index_col=0).iloc[:, -1]).value_counts()"
   ]
  },
  {
   "cell_type": "markdown",
   "metadata": {},
   "source": [
    "## Load random test sample and predict"
   ]
  },
  {
   "cell_type": "code",
   "execution_count": 82,
   "metadata": {},
   "outputs": [
    {
     "data": {
      "text/plain": [
       "cg22054918     0.003023\n",
       "cg16476975     0.015417\n",
       "cg25570913     0.052471\n",
       "cg03940848     0.218212\n",
       "cg02809746     0.010131\n",
       "                 ...   \n",
       "cg22513691     0.885517\n",
       "cg00743629     0.887552\n",
       "cg13621317     0.571651\n",
       "label          CPH, ADM\n",
       "class_group       Sella\n",
       "Name: 9305651095_R06C02, Length: 10002, dtype: object"
      ]
     },
     "execution_count": 82,
     "metadata": {},
     "output_type": "execute_result"
    }
   ],
   "source": [
    "rand = np.random.randint(df_test.shape[0])\n",
    "sample = df_test.iloc[rand, :]\n",
    "sample"
   ]
  },
  {
   "cell_type": "code",
   "execution_count": 83,
   "metadata": {},
   "outputs": [
    {
     "name": "stderr",
     "output_type": "stream",
     "text": [
      "C:\\Users\\OA\\AppData\\Local\\Temp/ipykernel_11476/1083929182.py:1: FutureWarning: Passing a set as an indexer is deprecated and will raise in a future version. Use a list instead.\n",
      "  sample = df_test.iloc[rand,:].loc[impf]\n"
     ]
    },
    {
     "data": {
      "text/plain": [
       "cg00323305    0.100081\n",
       "cg13392078      0.7397\n",
       "cg10018522    0.210633\n",
       "cg01181817    0.073812\n",
       "cg25403488    0.104597\n",
       "                ...   \n",
       "cg18366169    0.087431\n",
       "cg06998965    0.105729\n",
       "cg18391978    0.983084\n",
       "cg25072949    0.884488\n",
       "cg12974388     0.01833\n",
       "Name: 9305651095_R06C02, Length: 2049, dtype: object"
      ]
     },
     "execution_count": 83,
     "metadata": {},
     "output_type": "execute_result"
    }
   ],
   "source": [
    "sample = df_test.iloc[rand,:].loc[impf]\n",
    "sample"
   ]
  },
  {
   "cell_type": "code",
   "execution_count": 84,
   "metadata": {},
   "outputs": [],
   "source": [
    "sample_features = np.expand_dims(np.array(sample).astype(float), axis = 0)\n",
    "# sample_features, type(sample_features), sample_features.shape, type(sample_features[0][0])"
   ]
  },
  {
   "cell_type": "code",
   "execution_count": 85,
   "metadata": {},
   "outputs": [
    {
     "data": {
      "text/plain": [
       "Impf_DNAMLP(\n",
       "  (densenet): Sequential(\n",
       "    (0): Linear(in_features=2049, out_features=2, bias=True)\n",
       "  )\n",
       ")"
      ]
     },
     "execution_count": 85,
     "metadata": {},
     "output_type": "execute_result"
    }
   ],
   "source": [
    "IMPF_MLP_STATE_FILE = os.path.join(impf_cfg['MLP_BEST_STATES_DIR'], alg, group, f'{fold}.pth')\n",
    "\n",
    "n_classes = impf_cfg['n_classes']\n",
    "in_features = len(impf)\n",
    "\n",
    "model = Impf_DNAMLP(in_features, n_classes)\n",
    "model.load_state_dict(torch.load(IMPF_MLP_STATE_FILE, map_location = torch.device('cpu')))\n",
    "model.to(device)"
   ]
  },
  {
   "cell_type": "code",
   "execution_count": 86,
   "metadata": {},
   "outputs": [
    {
     "data": {
      "text/plain": [
       "(1, 2049)"
      ]
     },
     "execution_count": 86,
     "metadata": {},
     "output_type": "execute_result"
    }
   ],
   "source": [
    "sample_features.shape"
   ]
  },
  {
   "cell_type": "code",
   "execution_count": 87,
   "metadata": {},
   "outputs": [
    {
     "data": {
      "text/plain": [
       "tensor([[0.3258, 0.6742]], grad_fn=<SoftmaxBackward0>)"
      ]
     },
     "execution_count": 87,
     "metadata": {},
     "output_type": "execute_result"
    }
   ],
   "source": [
    "logits = softmax(model((torch.Tensor(sample_features).to(device))), dim = 1)\n",
    "logits"
   ]
  }
 ],
 "metadata": {
  "kernelspec": {
   "display_name": "Python 3.8.5 ('base')",
   "language": "python",
   "name": "python3"
  },
  "language_info": {
   "codemirror_mode": {
    "name": "ipython",
    "version": 3
   },
   "file_extension": ".py",
   "mimetype": "text/x-python",
   "name": "python",
   "nbconvert_exporter": "python",
   "pygments_lexer": "ipython3",
   "version": "3.8.5"
  },
  "orig_nbformat": 4,
  "vscode": {
   "interpreter": {
    "hash": "19d1d53a962d236aa061289c2ac16dc8e6d9648c89fe79f459ae9a3493bc67b4"
   }
  }
 },
 "nbformat": 4,
 "nbformat_minor": 2
}
