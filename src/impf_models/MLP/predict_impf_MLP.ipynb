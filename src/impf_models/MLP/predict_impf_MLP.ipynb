{
 "cells": [
  {
   "cell_type": "code",
   "execution_count": 73,
   "metadata": {},
   "outputs": [],
   "source": [
    "import sys\n",
    "sys.path.append('/media/data/hungnt/work/SourceCode/Brain_DNA/src/models/')\n",
    "\n",
    "import os\n",
    "import pandas as pd\n",
    "import numpy as np\n",
    "import config\n",
    "import utils\n",
    "import torch\n",
    "import pickle\n",
    "\n",
    "from Model import Impf_DNAMLP"
   ]
  },
  {
   "cell_type": "code",
   "execution_count": 74,
   "metadata": {},
   "outputs": [],
   "source": [
    "fold = '1.0'\n",
    "test_fold = '1.0'\n",
    "class_name = 'Embryonal'"
   ]
  },
  {
   "cell_type": "code",
   "execution_count": 75,
   "metadata": {},
   "outputs": [
    {
     "data": {
      "text/plain": [
       "'cuda'"
      ]
     },
     "execution_count": 75,
     "metadata": {},
     "output_type": "execute_result"
    }
   ],
   "source": [
    "cfg = config.config_dict\n",
    "impf_cfg = config.important_features_config_dict\n",
    "TRAIN_CSV_DIR = cfg['BIN_TRAIN_CSV_DIR']\n",
    "TEST_CSV_DIR = cfg['BIN_TEST_CSV_DIR']\n",
    "FOLD_CSV_FILE = os.path.join(TRAIN_CSV_DIR, class_name, f'{fold}_train.csv')\n",
    "TEST_FOLD_CSV_FILE = os.path.join(TEST_CSV_DIR, class_name, f'{test_fold}_test.csv')\n",
    "device = impf_cfg['device']\n",
    "device"
   ]
  },
  {
   "cell_type": "code",
   "execution_count": 76,
   "metadata": {},
   "outputs": [
    {
     "name": "stdout",
     "output_type": "stream",
     "text": [
      "Impf selector: RF\n"
     ]
    }
   ],
   "source": [
    "impf_selector = 'RF'\n",
    "\n",
    "if impf_selector.lower() == 'rf':\n",
    "    selector_name = 'RF'\n",
    "    print('Impf selector: RF')\n",
    "elif impf_selector.lower() == 'mlp':\n",
    "    selector_name = 'MLP'\n",
    "    print('Impf selector: MLP')\n",
    "elif impf_selector.lower() == 'lr':\n",
    "    print('Impf selector: LR')\n",
    "    selector_name = 'LR'\n",
    "else:\n",
    "    print('Default impf selector: RF')\n",
    "    selector_name = 'RF'\n",
    "    \n",
    "with open(os.path.join(impf_cfg[f'{selector_name}_IMPF_DIR'], class_name, f'{fold}_impf.pkl'), 'rb') as handle:\n",
    "    impf = pickle.load(handle)"
   ]
  },
  {
   "cell_type": "code",
   "execution_count": 77,
   "metadata": {},
   "outputs": [
    {
     "data": {
      "text/plain": [
       "(597, 10002)"
      ]
     },
     "execution_count": 77,
     "metadata": {},
     "output_type": "execute_result"
    }
   ],
   "source": [
    "df_test = pd.read_csv(TEST_FOLD_CSV_FILE, index_col=0)\n",
    "df_test.shape"
   ]
  },
  {
   "cell_type": "code",
   "execution_count": 78,
   "metadata": {},
   "outputs": [
    {
     "data": {
      "text/plain": [
       "(label             MB, G3\n",
       " class_group    Embryonal\n",
       " Name: 7970376029_R03C01, dtype: object,\n",
       " cg26772540    0.773156\n",
       " cg07254421     0.84622\n",
       " cg19327049    0.155361\n",
       " cg26824216    0.667186\n",
       " cg20397902    0.175935\n",
       " cg24441810    0.111134\n",
       " cg25459300    0.290347\n",
       " cg03556243    0.817975\n",
       " cg17781789    0.096427\n",
       " cg17777592    0.867769\n",
       " Name: 7970376029_R03C01, dtype: object)"
      ]
     },
     "execution_count": 78,
     "metadata": {},
     "output_type": "execute_result"
    }
   ],
   "source": [
    "rand = np.random.randint(df_test.shape[0])\n",
    "sample = df_test.iloc[rand,:].loc[impf]\n",
    "df_test.iloc[rand, -2:], sample"
   ]
  },
  {
   "cell_type": "code",
   "execution_count": 79,
   "metadata": {},
   "outputs": [
    {
     "data": {
      "text/plain": [
       "(array([[0.77315596, 0.84622041, 0.15536105, 0.66718553, 0.1759347 ,\n",
       "         0.11113393, 0.29034679, 0.81797456, 0.09642658, 0.86776894]]),\n",
       " numpy.ndarray,\n",
       " (1, 10),\n",
       " numpy.float64)"
      ]
     },
     "execution_count": 79,
     "metadata": {},
     "output_type": "execute_result"
    }
   ],
   "source": [
    "sample_features = np.expand_dims(np.array(sample).astype(float), axis = 0)\n",
    "sample_features, type(sample_features), sample_features.shape, type(sample_features[0][0])"
   ]
  },
  {
   "cell_type": "code",
   "execution_count": 80,
   "metadata": {},
   "outputs": [
    {
     "data": {
      "text/plain": [
       "Impf_DNAMLP(\n",
       "  (densenet): Sequential(\n",
       "    (0): Linear(in_features=10, out_features=2, bias=True)\n",
       "  )\n",
       ")"
      ]
     },
     "execution_count": 80,
     "metadata": {},
     "output_type": "execute_result"
    }
   ],
   "source": [
    "IMPF_MLP_STATE_FILE = os.path.join(impf_cfg['IMPF_MLP_BEST_STATES_DIR'], class_name, f'{fold}_best_state.pth')\n",
    "\n",
    "in_features = impf_cfg['N_IMPF']\n",
    "n_classes = impf_cfg['mlp_n_classes']\n",
    "in_features = 10\n",
    "\n",
    "model = Impf_DNAMLP(in_features, n_classes)\n",
    "model.load_state_dict(torch.load(IMPF_MLP_STATE_FILE))\n",
    "model.to(device)"
   ]
  },
  {
   "cell_type": "code",
   "execution_count": 81,
   "metadata": {},
   "outputs": [
    {
     "data": {
      "text/plain": [
       "(1, 10)"
      ]
     },
     "execution_count": 81,
     "metadata": {},
     "output_type": "execute_result"
    }
   ],
   "source": [
    "sample_features.shape"
   ]
  },
  {
   "cell_type": "code",
   "execution_count": 82,
   "metadata": {},
   "outputs": [
    {
     "data": {
      "text/plain": [
       "tensor([[0.0882, 0.4649]], device='cuda:0', grad_fn=<AddmmBackward0>)"
      ]
     },
     "execution_count": 82,
     "metadata": {},
     "output_type": "execute_result"
    }
   ],
   "source": [
    "logits = model((torch.Tensor(sample_features).to(device)))\n",
    "logits"
   ]
  }
 ],
 "metadata": {
  "kernelspec": {
   "display_name": "Python 3.8.5 ('base')",
   "language": "python",
   "name": "python3"
  },
  "language_info": {
   "codemirror_mode": {
    "name": "ipython",
    "version": 3
   },
   "file_extension": ".py",
   "mimetype": "text/x-python",
   "name": "python",
   "nbconvert_exporter": "python",
   "pygments_lexer": "ipython3",
   "version": "3.8.5"
  },
  "orig_nbformat": 4,
  "vscode": {
   "interpreter": {
    "hash": "f1a95063673afb40ff742ea38932ca37761c5e5b95ffd28e8b29d2c50499cde7"
   }
  }
 },
 "nbformat": 4,
 "nbformat_minor": 2
}
