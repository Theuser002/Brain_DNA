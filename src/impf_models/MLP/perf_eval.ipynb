{
 "cells": [
  {
   "cell_type": "code",
   "execution_count": 26,
   "metadata": {},
   "outputs": [],
   "source": [
    "import os\n",
    "import sys\n",
    "sys.path.append('../../')\n",
    "\n",
    "import utils\n",
    "import json\n",
    "import numpy as np"
   ]
  },
  {
   "cell_type": "code",
   "execution_count": 27,
   "metadata": {},
   "outputs": [],
   "source": [
    "alg = 'RF'\n",
    "outerfolds = utils.outer_folds\n",
    "EVAL_FILE = f'MLP_{alg}_evaluation.json'"
   ]
  },
  {
   "cell_type": "code",
   "execution_count": 28,
   "metadata": {},
   "outputs": [
    {
     "name": "stdout",
     "output_type": "stream",
     "text": [
      "<class 'dict'>\n"
     ]
    }
   ],
   "source": [
    "f = open(EVAL_FILE)\n",
    "eval_content = json.load(f)\n",
    "print(type(eval_content))"
   ]
  },
  {
   "cell_type": "code",
   "execution_count": 29,
   "metadata": {},
   "outputs": [
    {
     "ename": "KeyError",
     "evalue": "'1.1'",
     "output_type": "error",
     "traceback": [
      "\u001b[1;31m---------------------------------------------------------------------------\u001b[0m",
      "\u001b[1;31mKeyError\u001b[0m                                  Traceback (most recent call last)",
      "\u001b[1;32m~\\AppData\\Local\\Temp/ipykernel_15996/1963014600.py\u001b[0m in \u001b[0;36m<module>\u001b[1;34m\u001b[0m\n\u001b[0;32m     34\u001b[0m         \u001b[1;32mfor\u001b[0m \u001b[0minner\u001b[0m \u001b[1;32min\u001b[0m \u001b[0mrange\u001b[0m\u001b[1;33m(\u001b[0m\u001b[1;36m1\u001b[0m\u001b[1;33m,\u001b[0m \u001b[1;36m6\u001b[0m\u001b[1;33m)\u001b[0m\u001b[1;33m:\u001b[0m\u001b[1;33m\u001b[0m\u001b[1;33m\u001b[0m\u001b[0m\n\u001b[0;32m     35\u001b[0m             \u001b[0mfold\u001b[0m \u001b[1;33m=\u001b[0m \u001b[1;34mf'{outer}.{inner}'\u001b[0m\u001b[1;33m\u001b[0m\u001b[1;33m\u001b[0m\u001b[0m\n\u001b[1;32m---> 36\u001b[1;33m             \u001b[0mavg_dict\u001b[0m\u001b[1;33m[\u001b[0m\u001b[1;34mf'{group}'\u001b[0m\u001b[1;33m]\u001b[0m\u001b[1;33m[\u001b[0m\u001b[1;34mf'{outer}.0'\u001b[0m\u001b[1;33m]\u001b[0m\u001b[1;33m[\u001b[0m\u001b[1;34m'avg_train_loss'\u001b[0m\u001b[1;33m]\u001b[0m \u001b[1;33m+=\u001b[0m \u001b[0meval_content\u001b[0m\u001b[1;33m[\u001b[0m\u001b[1;34mf'{group}'\u001b[0m\u001b[1;33m]\u001b[0m\u001b[1;33m[\u001b[0m\u001b[1;34mf'{fold}'\u001b[0m\u001b[1;33m]\u001b[0m\u001b[1;33m[\u001b[0m\u001b[1;34m'train_loss:'\u001b[0m\u001b[1;33m]\u001b[0m\u001b[1;33m/\u001b[0m\u001b[1;36m5\u001b[0m\u001b[1;33m\u001b[0m\u001b[1;33m\u001b[0m\u001b[0m\n\u001b[0m\u001b[0;32m     37\u001b[0m             \u001b[0mavg_dict\u001b[0m\u001b[1;33m[\u001b[0m\u001b[1;34mf'{group}'\u001b[0m\u001b[1;33m]\u001b[0m\u001b[1;33m[\u001b[0m\u001b[1;34mf'{outer}.0'\u001b[0m\u001b[1;33m]\u001b[0m\u001b[1;33m[\u001b[0m\u001b[1;34m'avg_train_acc'\u001b[0m\u001b[1;33m]\u001b[0m \u001b[1;33m+=\u001b[0m \u001b[0meval_content\u001b[0m\u001b[1;33m[\u001b[0m\u001b[1;34mf'{group}'\u001b[0m\u001b[1;33m]\u001b[0m\u001b[1;33m[\u001b[0m\u001b[1;34mf'{fold}'\u001b[0m\u001b[1;33m]\u001b[0m\u001b[1;33m[\u001b[0m\u001b[1;34m'train_accs'\u001b[0m\u001b[1;33m]\u001b[0m\u001b[1;33m/\u001b[0m\u001b[1;36m5\u001b[0m\u001b[1;33m\u001b[0m\u001b[1;33m\u001b[0m\u001b[0m\n\u001b[0;32m     38\u001b[0m             \u001b[0mavg_dict\u001b[0m\u001b[1;33m[\u001b[0m\u001b[1;34mf'{group}'\u001b[0m\u001b[1;33m]\u001b[0m\u001b[1;33m[\u001b[0m\u001b[1;34mf'{outer}.0'\u001b[0m\u001b[1;33m]\u001b[0m\u001b[1;33m[\u001b[0m\u001b[1;34m'avg_train_me'\u001b[0m\u001b[1;33m]\u001b[0m \u001b[1;33m+=\u001b[0m \u001b[0meval_content\u001b[0m\u001b[1;33m[\u001b[0m\u001b[1;34mf'{group}'\u001b[0m\u001b[1;33m]\u001b[0m\u001b[1;33m[\u001b[0m\u001b[1;34mf'{fold}'\u001b[0m\u001b[1;33m]\u001b[0m\u001b[1;33m[\u001b[0m\u001b[1;34m'train_me'\u001b[0m\u001b[1;33m]\u001b[0m\u001b[1;33m/\u001b[0m\u001b[1;36m5\u001b[0m\u001b[1;33m\u001b[0m\u001b[1;33m\u001b[0m\u001b[0m\n",
      "\u001b[1;31mKeyError\u001b[0m: '1.1'"
     ]
    }
   ],
   "source": [
    "avg_dict = {}\n",
    "\n",
    "for group in utils.positive_groups:\n",
    "    avg_dict[f'{group}'] = {}\n",
    "    for outer in range(1, 6):\n",
    "        avg_dict[f'{group}'][f'{outer}.0'] = {}\n",
    "        avg_dict[f'{group}'][f'{outer}.0']['avg_train_loss'] = 0.\n",
    "        avg_dict[f'{group}'][f'{outer}.0']['avg_train_acc'] = 0.\n",
    "        avg_dict[f'{group}'][f'{outer}.0']['avg_train_me'] = 0.\n",
    "        avg_dict[f'{group}'][f'{outer}.0']['avg_train_bs'] = 0.\n",
    "        avg_dict[f'{group}'][f'{outer}.0']['avg_train_precision'] = 0.\n",
    "        avg_dict[f'{group}'][f'{outer}.0']['avg_train_recall'] = 0.\n",
    "        avg_dict[f'{group}'][f'{outer}.0']['avg_train_auc'] = 0.\n",
    "        avg_dict[f'{group}'][f'{outer}.0']['avg_train_f1'] = 0.\n",
    "        avg_dict[f'{group}'][f'{outer}.0']['avg_train_cfs'] = np.array([[0., 0.], [0., 0.]])\n",
    "        avg_dict[f'{group}'][f'{outer}.0']['avg_val_loss'] = 0.\n",
    "        avg_dict[f'{group}'][f'{outer}.0']['avg_val_acc'] = 0.\n",
    "        avg_dict[f'{group}'][f'{outer}.0']['avg_val_me'] = 0.\n",
    "        avg_dict[f'{group}'][f'{outer}.0']['avg_val_bs'] = 0.\n",
    "        avg_dict[f'{group}'][f'{outer}.0']['avg_val_precision'] = 0.\n",
    "        avg_dict[f'{group}'][f'{outer}.0']['avg_val_recall'] = 0.\n",
    "        avg_dict[f'{group}'][f'{outer}.0']['avg_val_auc'] = 0.\n",
    "        avg_dict[f'{group}'][f'{outer}.0']['avg_val_f1'] = 0.\n",
    "        avg_dict[f'{group}'][f'{outer}.0']['avg_val_cfs'] = np.array([[0., 0.], [0., 0.]])\n",
    "        avg_dict[f'{group}'][f'{outer}.0']['avg_test_loss'] = 0.\n",
    "        avg_dict[f'{group}'][f'{outer}.0']['avg_test_acc'] = 0.\n",
    "        avg_dict[f'{group}'][f'{outer}.0']['avg_test_me'] = 0.\n",
    "        avg_dict[f'{group}'][f'{outer}.0']['avg_test_bs'] = 0.\n",
    "        avg_dict[f'{group}'][f'{outer}.0']['avg_test_precision'] = 0.\n",
    "        avg_dict[f'{group}'][f'{outer}.0']['avg_test_recall'] = 0.\n",
    "        avg_dict[f'{group}'][f'{outer}.0']['avg_test_auc'] = 0.\n",
    "        avg_dict[f'{group}'][f'{outer}.0']['avg_test_f1'] = 0.\n",
    "        avg_dict[f'{group}'][f'{outer}.0']['avg_test_cfs'] = np.array([[0., 0.], [0., 0.]])\n",
    "        for inner in range(1, 6):\n",
    "            fold = f'{outer}.{inner}'\n",
    "            avg_dict[f'{group}'][f'{outer}.0']['avg_train_loss'] += eval_content[f'{group}'][f'{fold}']['train_loss:']/5\n",
    "            avg_dict[f'{group}'][f'{outer}.0']['avg_train_acc'] += eval_content[f'{group}'][f'{fold}']['train_accs']/5\n",
    "            avg_dict[f'{group}'][f'{outer}.0']['avg_train_me'] += eval_content[f'{group}'][f'{fold}']['train_me']/5\n",
    "            avg_dict[f'{group}'][f'{outer}.0']['avg_train_bs'] += eval_content[f'{group}'][f'{fold}']['train_bs']/5\n",
    "            avg_dict[f'{group}'][f'{outer}.0']['avg_train_precision'] += eval_content[f'{group}'][f'{fold}']['train_precision']/5\n",
    "            avg_dict[f'{group}'][f'{outer}.0']['avg_train_recall'] += eval_content[f'{group}'][f'{fold}']['train_recall']/5\n",
    "            avg_dict[f'{group}'][f'{outer}.0']['avg_train_auc'] += eval_content[f'{group}'][f'{fold}']['train_auc']/5\n",
    "            avg_dict[f'{group}'][f'{outer}.0']['avg_train_f1'] += eval_content[f'{group}'][f'{fold}']['train_f1']/5\n",
    "            avg_dict[f'{group}'][f'{outer}.0']['avg_train_cfs'] += np.array(eval_content[f'{group}'][f'{fold}']['train_cfs'])/5\n",
    "            avg_dict[f'{group}'][f'{outer}.0']['avg_val_loss'] += eval_content[f'{group}'][f'{fold}']['val_loss:']/5\n",
    "            avg_dict[f'{group}'][f'{outer}.0']['avg_val_acc'] += eval_content[f'{group}'][f'{fold}']['val_accs']/5\n",
    "            avg_dict[f'{group}'][f'{outer}.0']['avg_val_me'] += eval_content[f'{group}'][f'{fold}']['val_me']/5\n",
    "            avg_dict[f'{group}'][f'{outer}.0']['avg_val_bs'] += eval_content[f'{group}'][f'{fold}']['val_bs']/5\n",
    "            avg_dict[f'{group}'][f'{outer}.0']['avg_val_precision'] += eval_content[f'{group}'][f'{fold}']['val_precision']/5\n",
    "            avg_dict[f'{group}'][f'{outer}.0']['avg_val_recall'] += eval_content[f'{group}'][f'{fold}']['val_recall']/5\n",
    "            avg_dict[f'{group}'][f'{outer}.0']['avg_val_auc'] += eval_content[f'{group}'][f'{fold}']['val_auc']/5\n",
    "            avg_dict[f'{group}'][f'{outer}.0']['avg_val_f1'] += eval_content[f'{group}'][f'{fold}']['val_f1']/5\n",
    "            avg_dict[f'{group}'][f'{outer}.0']['avg_val_cfs'] += np.array(eval_content[f'{group}'][f'{fold}']['val_cfs'])/5\n",
    "            avg_dict[f'{group}'][f'{outer}.0']['avg_test_loss'] += eval_content[f'{group}'][f'{fold}']['test_loss:']/5\n",
    "            avg_dict[f'{group}'][f'{outer}.0']['avg_test_acc'] += eval_content[f'{group}'][f'{fold}']['test_accs']/5\n",
    "            avg_dict[f'{group}'][f'{outer}.0']['avg_test_me'] += eval_content[f'{group}'][f'{fold}']['test_me']/5\n",
    "            avg_dict[f'{group}'][f'{outer}.0']['avg_test_bs'] += eval_content[f'{group}'][f'{fold}']['test_bs']/5\n",
    "            avg_dict[f'{group}'][f'{outer}.0']['avg_test_precision'] += eval_content[f'{group}'][f'{fold}']['test_precision']/5\n",
    "            avg_dict[f'{group}'][f'{outer}.0']['avg_test_recall'] += eval_content[f'{group}'][f'{fold}']['test_recall']/5\n",
    "            avg_dict[f'{group}'][f'{outer}.0']['avg_test_auc'] += eval_content[f'{group}'][f'{fold}']['test_auc']/5\n",
    "            avg_dict[f'{group}'][f'{outer}.0']['avg_test_f1'] += eval_content[f'{group}'][f'{fold}']['test_f1']/5\n",
    "            avg_dict[f'{group}'][f'{outer}.0']['avg_test_cfs'] += np.array(eval_content[f'{group}'][f'{fold}']['test_cfs'])/5\n",
    "        "
   ]
  },
  {
   "cell_type": "code",
   "execution_count": null,
   "metadata": {},
   "outputs": [
    {
     "name": "stdout",
     "output_type": "stream",
     "text": [
      "{'Embryonal': {'1.0': {'avg_train_loss': 0.005128467292762572, 'avg_train_acc': 100.0, 'avg_train_me': 0.0, 'avg_train_bs': 0.0005987761129841022, 'avg_train_precision': 1.0, 'avg_train_recall': 1.0, 'avg_train_auc': 1.0, 'avg_train_f1': 1.0, 'avg_train_cfs': array([[384.8,   0. ],\n",
      "       [  0. , 384.8]]), 'avg_val_loss': 0.009162328689126299, 'avg_val_acc': 100.0, 'avg_val_me': 0.0, 'avg_val_bs': 0.0031086004726425995, 'avg_val_precision': 1.0, 'avg_val_recall': 1.0, 'avg_val_auc': 1.0, 'avg_val_f1': 1.0, 'avg_val_cfs': array([[96.2,  0. ],\n",
      "       [ 0. , 18.4]]), 'avg_test_loss': 0.004457160640595249, 'avg_test_acc': 100.0, 'avg_test_me': 0.0, 'avg_test_bs': 0.0003401456046811205, 'avg_test_precision': 1.0, 'avg_test_recall': 1.0, 'avg_test_auc': 1.0, 'avg_test_f1': 1.0, 'avg_test_cfs': array([[126.,   0.],\n",
      "       [  0.,  27.]])}, '2.0': {'avg_train_loss': 0.005889465871343293, 'avg_train_acc': 100.0, 'avg_train_me': 0.0, 'avg_train_bs': 0.0008591276751696195, 'avg_train_precision': 1.0, 'avg_train_recall': 1.0, 'avg_train_auc': 1.0, 'avg_train_f1': 1.0, 'avg_train_cfs': array([[385.6,   0. ],\n",
      "       [  0. , 385.6]]), 'avg_val_loss': 0.007779554241226704, 'avg_val_acc': 100.0, 'avg_val_me': 0.0, 'avg_val_bs': 0.0024389348796328126, 'avg_val_precision': 1.0, 'avg_val_recall': 1.0, 'avg_val_auc': 1.0, 'avg_val_f1': 1.0, 'avg_val_cfs': array([[96.4,  0. ],\n",
      "       [ 0. , 18.4]]), 'avg_test_loss': 0.010791515872115269, 'avg_test_acc': 100.0, 'avg_test_me': 0.0, 'avg_test_bs': 0.003720733829903818, 'avg_test_precision': 1.0, 'avg_test_recall': 1.0, 'avg_test_auc': 1.0, 'avg_test_f1': 1.0, 'avg_test_cfs': array([[125.,   0.],\n",
      "       [  0.,  27.]])}, '3.0': {'avg_train_loss': 0.0047641486682757925, 'avg_train_acc': 100.0, 'avg_train_me': 0.0, 'avg_train_bs': 0.0005399623644311726, 'avg_train_precision': 1.0, 'avg_train_recall': 1.0, 'avg_train_auc': 1.0, 'avg_train_f1': 1.0, 'avg_train_cfs': array([[388.,   0.],\n",
      "       [  0., 388.]]), 'avg_val_loss': 0.006904822157178257, 'avg_val_acc': 100.0, 'avg_val_me': 0.0, 'avg_val_bs': 0.00193399544586365, 'avg_val_precision': 1.0, 'avg_val_recall': 1.0, 'avg_val_auc': 1.0, 'avg_val_f1': 1.0, 'avg_val_cfs': array([[97. ,  0. ],\n",
      "       [ 0. , 18.8]]), 'avg_test_loss': 0.012649454484053422, 'avg_test_acc': 100.0, 'avg_test_me': 0.0, 'avg_test_bs': 0.0044175924102089915, 'avg_test_precision': 1.0, 'avg_test_recall': 1.0, 'avg_test_auc': 1.0, 'avg_test_f1': 1.0, 'avg_test_cfs': array([[122.,   0.],\n",
      "       [  0.,  25.]])}, '4.0': {'avg_train_loss': 0.00591768481850531, 'avg_train_acc': 100.0, 'avg_train_me': 0.0, 'avg_train_bs': 0.0007531564488213616, 'avg_train_precision': 1.0, 'avg_train_recall': 1.0, 'avg_train_auc': 1.0, 'avg_train_f1': 1.0, 'avg_train_cfs': array([[390.4,   0. ],\n",
      "       [  0. , 390.4]]), 'avg_val_loss': 0.007005302546011599, 'avg_val_acc': 100.0, 'avg_val_me': 0.0, 'avg_val_bs': 0.0017640457382971592, 'avg_val_precision': 1.0, 'avg_val_recall': 1.0, 'avg_val_auc': 1.0, 'avg_val_f1': 1.0, 'avg_val_cfs': array([[97.6,  0. ],\n",
      "       [ 0. , 19.4]]), 'avg_test_loss': 0.005226199965626519, 'avg_test_acc': 100.0, 'avg_test_me': 0.0, 'avg_test_bs': 0.0009083192490993916, 'avg_test_precision': 1.0, 'avg_test_recall': 1.0, 'avg_test_auc': 1.0, 'avg_test_f1': 1.0, 'avg_test_cfs': array([[119.,   0.],\n",
      "       [  0.,  22.]])}, '5.0': {'avg_train_loss': 0.004990728958709984, 'avg_train_acc': 100.0, 'avg_train_me': 0.0, 'avg_train_bs': 0.0005076266587154982, 'avg_train_precision': 1.0, 'avg_train_recall': 1.0, 'avg_train_auc': 1.0, 'avg_train_f1': 1.0, 'avg_train_cfs': array([[393.6,   0. ],\n",
      "       [  0. , 393.6]]), 'avg_val_loss': 0.006261336240381102, 'avg_val_acc': 100.0, 'avg_val_me': 0.0, 'avg_val_bs': 0.0012457824008732566, 'avg_val_precision': 1.0, 'avg_val_recall': 1.0, 'avg_val_auc': 1.0, 'avg_val_f1': 1.0, 'avg_val_cfs': array([[98.4,  0. ],\n",
      "       [ 0. , 20.2]]), 'avg_test_loss': 0.007391380911899938, 'avg_test_acc': 100.0, 'avg_test_me': 0.0, 'avg_test_bs': 0.0027905689402791707, 'avg_test_precision': 1.0, 'avg_test_recall': 1.0, 'avg_test_auc': 1.0, 'avg_test_f1': 1.0, 'avg_test_cfs': array([[115.,   0.],\n",
      "       [  0.,  18.]])}}, 'Glioblastoma': {'1.0': {'avg_train_loss': 0.00790563647214336, 'avg_train_acc': 100.0, 'avg_train_me': 0.0, 'avg_train_bs': 0.0013529748772182501, 'avg_train_precision': 1.0, 'avg_train_recall': 1.0, 'avg_train_auc': 1.0, 'avg_train_f1': 1.0, 'avg_train_cfs': array([[268.8,   0. ],\n",
      "       [  0. , 268.8]]), 'avg_val_loss': 0.01000577334780246, 'avg_val_acc': 99.76190476190476, 'avg_val_me': 0.23809523809523797, 'avg_val_bs': 0.0029715770744972512, 'avg_val_precision': 0.9894736842105263, 'avg_val_recall': 1.0, 'avg_val_auc': 0.9984848484848485, 'avg_val_f1': 0.9945945945945946, 'avg_val_cfs': array([[67. ,  0.2],\n",
      "       [ 0. , 18.4]]), 'avg_test_loss': 0.00783749272231944, 'avg_test_acc': 100.0, 'avg_test_me': 0.0, 'avg_test_bs': 0.0016930814554903654, 'avg_test_precision': 1.0, 'avg_test_recall': 1.0, 'avg_test_auc': 1.0, 'avg_test_f1': 1.0, 'avg_test_cfs': array([[89.,  0.],\n",
      "       [ 0., 27.]])}, '2.0': {'avg_train_loss': 0.007823927043764303, 'avg_train_acc': 100.0, 'avg_train_me': 0.0, 'avg_train_bs': 0.001325716113166386, 'avg_train_precision': 1.0, 'avg_train_recall': 1.0, 'avg_train_auc': 1.0, 'avg_train_f1': 1.0, 'avg_train_cfs': array([[271.2,   0. ],\n",
      "       [  0. , 271.2]]), 'avg_val_loss': 0.010054107679752632, 'avg_val_acc': 99.78494623655914, 'avg_val_me': 0.21505376344086075, 'avg_val_bs': 0.0028978980730832438, 'avg_val_precision': 0.991304347826087, 'avg_val_recall': 1.0, 'avg_val_auc': 0.9985915492957746, 'avg_val_f1': 0.9955555555555555, 'avg_val_cfs': array([[67.6,  0.2],\n",
      "       [ 0. , 18.4]]), 'avg_test_loss': 0.009363152297737543, 'avg_test_acc': 100.0, 'avg_test_me': 0.0, 'avg_test_bs': 0.00253324131862007, 'avg_test_precision': 1.0, 'avg_test_recall': 1.0, 'avg_test_auc': 1.0, 'avg_test_f1': 1.0, 'avg_test_cfs': array([[86.,  0.],\n",
      "       [ 0., 27.]])}, '3.0': {'avg_train_loss': 0.008806079434057992, 'avg_train_acc': 100.0, 'avg_train_me': 0.0, 'avg_train_bs': 0.0015345250370762422, 'avg_train_precision': 1.0, 'avg_train_recall': 1.0, 'avg_train_auc': 1.0, 'avg_train_f1': 1.0, 'avg_train_cfs': array([[271.2,   0. ],\n",
      "       [  0. , 271.2]]), 'avg_val_loss': 0.01069457124267501, 'avg_val_acc': 100.0, 'avg_val_me': 0.0, 'avg_val_bs': 0.0032422466993585744, 'avg_val_precision': 1.0, 'avg_val_recall': 1.0, 'avg_val_auc': 1.0, 'avg_val_f1': 1.0, 'avg_val_cfs': array([[67.8,  0. ],\n",
      "       [ 0. , 18.8]]), 'avg_test_loss': 0.007390557568786401, 'avg_test_acc': 100.0, 'avg_test_me': 0.0, 'avg_test_bs': 0.0009516552459396428, 'avg_test_precision': 1.0, 'avg_test_recall': 1.0, 'avg_test_auc': 1.0, 'avg_test_f1': 1.0, 'avg_test_cfs': array([[86.,  0.],\n",
      "       [ 0., 25.]])}, '4.0': {'avg_train_loss': 0.007843980150268898, 'avg_train_acc': 100.0, 'avg_train_me': 0.0, 'avg_train_bs': 0.0012786342362155292, 'avg_train_precision': 1.0, 'avg_train_recall': 1.0, 'avg_train_auc': 1.0, 'avg_train_f1': 1.0, 'avg_train_cfs': array([[273.6,   0. ],\n",
      "       [  0. , 273.6]]), 'avg_val_loss': 0.01026582773968888, 'avg_val_acc': 99.77011494252874, 'avg_val_me': 0.22988505747126453, 'avg_val_bs': 0.002964404466253671, 'avg_val_precision': 0.9894736842105263, 'avg_val_recall': 1.0, 'avg_val_auc': 0.9985507246376812, 'avg_val_f1': 0.9945945945945946, 'avg_val_cfs': array([[68.2,  0.2],\n",
      "       [ 0. , 19.4]]), 'avg_test_loss': 0.010395170887932181, 'avg_test_acc': 100.0, 'avg_test_me': 0.0, 'avg_test_bs': 0.002467782154854791, 'avg_test_precision': 1.0, 'avg_test_recall': 1.0, 'avg_test_auc': 1.0, 'avg_test_f1': 1.0, 'avg_test_cfs': array([[83.,  0.],\n",
      "       [ 0., 22.]])}, '5.0': {'avg_train_loss': 0.0077005199312665615, 'avg_train_acc': 100.0, 'avg_train_me': 0.0, 'avg_train_bs': 0.0010542558828432248, 'avg_train_precision': 1.0, 'avg_train_recall': 1.0, 'avg_train_auc': 1.0, 'avg_train_f1': 1.0, 'avg_train_cfs': array([[275.2,   0. ],\n",
      "       [  0. , 275.2]]), 'avg_val_loss': 0.00941119643393904, 'avg_val_acc': 100.0, 'avg_val_me': 0.0, 'avg_val_bs': 0.0022185433377729597, 'avg_val_precision': 1.0, 'avg_val_recall': 1.0, 'avg_val_auc': 1.0, 'avg_val_f1': 1.0, 'avg_val_cfs': array([[68.8,  0. ],\n",
      "       [ 0. , 20.2]]), 'avg_test_loss': 0.01644447780480342, 'avg_test_acc': 98.98989898989899, 'avg_test_me': 1.0101010101010104, 'avg_test_bs': 0.006529821522900825, 'avg_test_precision': 0.9473684210526314, 'avg_test_recall': 1.0, 'avg_test_auc': 0.9938271604938271, 'avg_test_f1': 0.972972972972973, 'avg_test_cfs': array([[80.,  1.],\n",
      "       [ 0., 18.]])}}, 'Glio-neuronal': {'1.0': {'avg_train_loss': 0.0, 'avg_train_acc': 0.0, 'avg_train_me': 0.0, 'avg_train_bs': 0.0, 'avg_train_precision': 0.0, 'avg_train_recall': 0.0, 'avg_train_auc': 0.0, 'avg_train_f1': 0.0, 'avg_train_cfs': array([[0., 0.],\n",
      "       [0., 0.]]), 'avg_val_loss': 0.0, 'avg_val_acc': 0.0, 'avg_val_me': 0.0, 'avg_val_bs': 0.0, 'avg_val_precision': 0.0, 'avg_val_recall': 0.0, 'avg_val_auc': 0.0, 'avg_val_f1': 0.0, 'avg_val_cfs': array([[0., 0.],\n",
      "       [0., 0.]]), 'avg_test_loss': 0.0, 'avg_test_acc': 0.0, 'avg_test_me': 0.0, 'avg_test_bs': 0.0, 'avg_test_precision': 0.0, 'avg_test_recall': 0.0, 'avg_test_auc': 0.0, 'avg_test_f1': 0.0, 'avg_test_cfs': array([[0., 0.],\n",
      "       [0., 0.]])}}}\n"
     ]
    }
   ],
   "source": [
    "print(avg_dict)"
   ]
  }
 ],
 "metadata": {
  "kernelspec": {
   "display_name": "Python 3.8.5 ('base')",
   "language": "python",
   "name": "python3"
  },
  "language_info": {
   "codemirror_mode": {
    "name": "ipython",
    "version": 3
   },
   "file_extension": ".py",
   "mimetype": "text/x-python",
   "name": "python",
   "nbconvert_exporter": "python",
   "pygments_lexer": "ipython3",
   "version": "3.8.5"
  },
  "orig_nbformat": 4,
  "vscode": {
   "interpreter": {
    "hash": "19d1d53a962d236aa061289c2ac16dc8e6d9648c89fe79f459ae9a3493bc67b4"
   }
  }
 },
 "nbformat": 4,
 "nbformat_minor": 2
}
